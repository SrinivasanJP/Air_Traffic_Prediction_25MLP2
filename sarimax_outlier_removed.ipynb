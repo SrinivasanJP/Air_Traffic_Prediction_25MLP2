{
 "cells": [
  {
   "cell_type": "code",
   "execution_count": null,
   "metadata": {},
   "outputs": [
    {
     "ename": "",
     "evalue": "",
     "output_type": "error",
     "traceback": [
      "\u001b[1;31mRunning cells with '.venv (Python 3.10.2)' requires the ipykernel package.\n",
      "\u001b[1;31mRun the following command to install 'ipykernel' into the Python environment. \n",
      "\u001b[1;31mCommand: 'd:/ROXs/SCS/25MLP2/.venv/Scripts/python.exe -m pip install ipykernel -U --force-reinstall'"
     ]
    }
   ],
   "source": [
    "import pandas as pd\n",
    "import numpy as np\n",
    "import matplotlib.pyplot as plt\n",
    "from statsmodels.tsa.statespace.sarimax import SARIMAX\n",
    "from sklearn.metrics import mean_squared_error, mean_absolute_error\n",
    "import warnings\n",
    "warnings.filterwarnings(\"ignore\")\n"
   ]
  },
  {
   "cell_type": "code",
   "execution_count": null,
   "metadata": {},
   "outputs": [],
   "source": [
    "def months_ahead(from_date, to_date):\n",
    "    \"\"\"\n",
    "    Utility: calculate how many months from 'from_date' to 'to_date'.\n",
    "    Assumes both are month-start if your data is monthly.\n",
    "    \"\"\"\n",
    "    return (to_date.year - from_date.year)*12 + (to_date.month - from_date.month)\n",
    "\n"
   ]
  },
  {
   "cell_type": "code",
   "execution_count": null,
   "metadata": {},
   "outputs": [],
   "source": [
    "df = pd.read_csv(\"air-traffic-landings-statistics.csv\", encoding='latin1')\n",
    "df.head()\n",
    "\n",
    "# Remove outliers from 'Landing Count' and 'Total Landed Weight'\n",
    "df = remove_outliers_iqr(df, 'Landing Count')\n",
    "df = remove_outliers_iqr(df, 'Total Landed Weight')\n"
   ]
  },
  {
   "cell_type": "code",
   "execution_count": null,
   "metadata": {},
   "outputs": [],
   "source": [
    "df = df.apply(lambda x: x.str.lower() if x.dtype == object else x)\n",
    "\n",
    "df.head()"
   ]
  },
  {
   "cell_type": "code",
   "execution_count": null,
   "metadata": {},
   "outputs": [],
   "source": [
    "df.drop_duplicates(inplace = True)\n",
    "df.shape"
   ]
  },
  {
   "cell_type": "code",
   "execution_count": null,
   "metadata": {},
   "outputs": [],
   "source": [
    "df.info()"
   ]
  },
  {
   "cell_type": "code",
   "execution_count": null,
   "metadata": {},
   "outputs": [],
   "source": [
    "df.isna().sum()"
   ]
  },
  {
   "cell_type": "code",
   "execution_count": null,
   "metadata": {},
   "outputs": [],
   "source": [
    "df.isnull().sum() / len(df)"
   ]
  },
  {
   "cell_type": "code",
   "execution_count": null,
   "metadata": {},
   "outputs": [],
   "source": [
    "df.isna().sum()//len(df)*100"
   ]
  },
  {
   "cell_type": "code",
   "execution_count": null,
   "metadata": {},
   "outputs": [],
   "source": [
    "mean_cleaned = df['Landing Count'].dropna().mean()\n",
    "print(\"Mean after dropping missing values:\", mean_cleaned)\n",
    "# Calculate the median of Total Landed Weight\n",
    "median_total_weight = df['Total Landed Weight'].median()\n",
    "print(\"Median Total Landed Weight:\", median_total_weight)\n",
    "# Drop missing values and calculate median\n",
    "median_cleaned = df['Landing Count'].dropna().median()\n",
    "print(\"Median after handling missing values:\", median_cleaned)"
   ]
  },
  {
   "cell_type": "code",
   "execution_count": null,
   "metadata": {},
   "outputs": [],
   "source": [
    "# Convert Activity Period (e.g. 201809 -> \"2018-09-01\")\n",
    "df['Activity Period'] = df['Activity Period'].astype(str)\n",
    "df['year'] = df['Activity Period'].str[:4].astype(int)\n",
    "df['month'] = df['Activity Period'].str[4:].astype(int)\n",
    "df['date'] = pd.to_datetime(df[['year','month']].assign(day=1))  # always day=1\n",
    "df.sort_values('date', inplace=True)\n"
   ]
  },
  {
   "cell_type": "code",
   "execution_count": null,
   "metadata": {},
   "outputs": [],
   "source": [
    "df.head()"
   ]
  },
  {
   "cell_type": "code",
   "execution_count": null,
   "metadata": {},
   "outputs": [],
   "source": [
    "import seaborn as sns\n",
    "import matplotlib.pyplot as plt\n",
    "# Summary of landings by month\n",
    "monthly_landings = df.groupby('Activity Period')['Landing Count'].sum()\n",
    "monthly_landings.plot(kind='line', title='Monthly Landings', xlabel='Month', ylabel='Landings')\n",
    "plt.show()"
   ]
  },
  {
   "cell_type": "code",
   "execution_count": null,
   "metadata": {},
   "outputs": [],
   "source": [
    "# Top operating airlines by landing count\n",
    "top_airlines = df.groupby('Operating Airline')['Landing Count'].sum().sort_values(ascending=False).head(10)\n",
    "top_airlines.plot(kind='bar', title='Top Airlines by Landings', xlabel='Airline', ylabel='Landings')\n",
    "plt.xticks(rotation = 90)\n",
    "plt.show()"
   ]
  },
  {
   "cell_type": "code",
   "execution_count": null,
   "metadata": {},
   "outputs": [],
   "source": [
    "# Aircraft body type distribution\n",
    "body_type_distribution = df['Aircraft Body Type'].value_counts()\n",
    "body_type_distribution.plot(kind='pie', autopct='%1.1f%%', title='Aircraft Body Type Distribution')\n",
    "plt.show()"
   ]
  },
  {
   "cell_type": "code",
   "execution_count": null,
   "metadata": {},
   "outputs": [],
   "source": [
    "# Weight trend over time\n",
    "df['Total Landed Weight'] = pd.to_numeric(df['Total Landed Weight'], errors='coerce')\n",
    "weight_trend = df.groupby('Activity Period')['Total Landed Weight'].sum()\n",
    "weight_trend.plot(kind='line', title='Total Landed Weight Over Time', xlabel='Month', ylabel='Weight')\n",
    "plt.show()"
   ]
  },
  {
   "cell_type": "code",
   "execution_count": null,
   "metadata": {},
   "outputs": [],
   "source": [
    "import seaborn as sns\n",
    "import matplotlib.pyplot as plt\n",
    "\n",
    "# Boxplot for landing counts by aircraft body type\n",
    "plt.figure(figsize=(10, 6))\n",
    "sns.boxplot(data=df, x='Aircraft Body Type', y='Landing Count')\n",
    "plt.title('Distribution of Landing Counts by Aircraft Body Type')\n",
    "plt.xlabel('Aircraft Body Type')\n",
    "plt.ylabel('Landing Count')\n",
    "plt.show()"
   ]
  },
  {
   "cell_type": "code",
   "execution_count": null,
   "metadata": {},
   "outputs": [],
   "source": [
    "# Scatterplot for total landed weight vs. landing coun\n",
    "plt.figure(figsize=(10, 6))\n",
    "sns.scatterplot(data=df, x='Landing Count', y='Total Landed Weight', hue='Aircraft Body Type', alpha=0.7)\n",
    "plt.title('Scatterplot of Total Landed Weight vs. Landing Count')\n",
    "plt.xlabel('Landing Count')\n",
    "plt.ylabel('Total Landed Weight')\n",
    "plt.legend(title='Aircraft Body Type')\n",
    "plt.show()"
   ]
  },
  {
   "cell_type": "code",
   "execution_count": null,
   "metadata": {},
   "outputs": [],
   "source": [
    "# Histogram with KDE\n",
    "plt.figure(figsize=(10, 6))\n",
    "sns.histplot(df['Landing Count'], bins=20, kde=True, color='green')\n",
    "plt.title('Histogram of Landing Counts with KDE')\n",
    "plt.xlabel('Landing Count')\n",
    "plt.ylabel('Frequency')\n",
    "plt.show()"
   ]
  },
  {
   "cell_type": "code",
   "execution_count": null,
   "metadata": {},
   "outputs": [],
   "source": [
    "# Top airlines by landing count\n",
    "top_airlines = df.groupby('Operating Airline')['Landing Count'].sum().sort_values(ascending=False).head(10)\n",
    "\n",
    "plt.figure(figsize=(10, 6))\n",
    "top_airlines.plot(kind='bar', color='gold', edgecolor='black')\n",
    "plt.title('Top Airlines by Landings')\n",
    "plt.xlabel('Operating Airline')\n",
    "plt.ylabel('Total Landings')\n",
    "plt.xticks(rotation=45)\n",
    "plt.grid(axis='y', linestyle='--', alpha=0.7)\n",
    "plt.show()"
   ]
  },
  {
   "cell_type": "code",
   "execution_count": null,
   "metadata": {},
   "outputs": [],
   "source": [
    "numerical_features = df[['Landing Count', 'Total Landed Weight']]\n",
    "correlation_matrix = numerical_features.corr()\n",
    "\n",
    "# Heatmap\n",
    "plt.figure(figsize=(8, 6))\n",
    "sns.heatmap(correlation_matrix, annot=True, cmap='coolwarm', fmt='.2f')\n",
    "plt.title('Heatmap of Correlation Between Numerical Features')\n",
    "plt.show()"
   ]
  },
  {
   "cell_type": "code",
   "execution_count": null,
   "metadata": {},
   "outputs": [],
   "source": [
    "df_monthly = df.groupby('date', as_index=False).agg({\n",
    "    'Landing Count': 'sum',\n",
    "    'Total Landed Weight': 'sum'\n",
    "})\n",
    "# Set index to date, ensure monthly frequency\n",
    "df_monthly.set_index('date', inplace=True)\n",
    "df_monthly = df_monthly.asfreq('MS')  # 'MS' = Month Start\n"
   ]
  },
  {
   "cell_type": "code",
   "execution_count": null,
   "metadata": {},
   "outputs": [],
   "source": [
    "# import pandas as pd\n",
    "\n",
    "# def remove_outliers_iqr(df, column):\n",
    "#     \"\"\"\n",
    "#     Remove outliers from a DataFrame column using the IQR method.\n",
    "#     \"\"\"\n",
    "#     Q1 = df[column].quantile(0.25)\n",
    "#     Q3 = df[column].quantile(0.75)\n",
    "#     IQR = Q3 - Q1\n",
    "\n",
    "#     # Define outlier bounds\n",
    "#     lower_bound = Q1 - 1.5 * IQR\n",
    "#     upper_bound = Q3 + 1.5 * IQR\n",
    "\n",
    "#     # Filter out outliers\n",
    "#     df_filtered = df[(df[column] >= lower_bound) & (df[column] <= upper_bound)]\n",
    "#     return df_filtered\n",
    "# print(f\"Original data points: {len(df_monthly)}\")\n",
    "# # Apply outlier removal on both Landing Count and Total Landed Weight\n",
    "# df_monthly = remove_outliers_iqr(df_monthly, 'Landing Count')\n",
    "# df_monthly = remove_outliers_iqr(df_monthly, 'Total Landed Weight')\n",
    "\n",
    "\n",
    "# print(f\"Data points after outlier removal: {len(df_monthly)}\")"
   ]
  },
  {
   "cell_type": "code",
   "execution_count": null,
   "metadata": {},
   "outputs": [],
   "source": [
    "# You can choose a train end date, or just use the full dataset.\n",
    "train_data_lc = df_monthly['Landing Count']\n",
    "train_data_tlw = df_monthly['Total Landed Weight']"
   ]
  },
  {
   "cell_type": "code",
   "execution_count": null,
   "metadata": {},
   "outputs": [],
   "source": [
    "model_lc = SARIMAX(\n",
    "    train_data_lc,\n",
    "    order=(1,1,1),              # (p,d,q) - placeholder, tune for your data\n",
    "    seasonal_order=(1,1,1,12),  # (P,D,Q,m) with m=12 for monthly seasonality\n",
    "    enforce_stationarity=False,\n",
    "    enforce_invertibility=False\n",
    ")\n",
    "results_lc = model_lc.fit(disp=False)\n"
   ]
  },
  {
   "cell_type": "code",
   "execution_count": null,
   "metadata": {},
   "outputs": [],
   "source": [
    "\n",
    "# ---- SARIMAX for Total Landed Weight ----\n",
    "model_tlw = SARIMAX(\n",
    "    train_data_tlw,\n",
    "    order=(1,1,1),\n",
    "    seasonal_order=(1,1,1,12),\n",
    "    enforce_stationarity=False,\n",
    "    enforce_invertibility=False\n",
    ")\n",
    "results_tlw = model_tlw.fit(disp=False)\n"
   ]
  },
  {
   "cell_type": "code",
   "execution_count": null,
   "metadata": {},
   "outputs": [],
   "source": [
    "\n",
    "future_date_str = '2025-03-01'\n",
    "future_date = pd.to_datetime(future_date_str)\n",
    "\n",
    "last_date_in_data = df_monthly.index.max()\n",
    "steps = months_ahead(last_date_in_data, future_date)\n",
    "if steps <= 0:\n",
    "    raise ValueError(\"Future date is not after the dataset's last date!\")\n",
    "\n",
    "# Forecast Landing Count\n",
    "forecast_lc = results_lc.get_forecast(steps=steps)\n",
    "pred_lc_series = forecast_lc.predicted_mean\n",
    "predicted_lc = pred_lc_series.loc[future_date]\n",
    "\n",
    "# Forecast Total Landed Weight\n",
    "forecast_tlw = results_tlw.get_forecast(steps=steps)\n",
    "pred_tlw_series = forecast_tlw.predicted_mean\n",
    "predicted_tlw = pred_tlw_series.loc[future_date]\n",
    "\n",
    "print(f\"\\n=== Forecast for {future_date_str} ===\")\n",
    "print(f\"Landing Count: {predicted_lc:.0f}\")\n",
    "print(f\"Total Landed Weight: {predicted_tlw:.0f}\")\n"
   ]
  },
  {
   "cell_type": "code",
   "execution_count": null,
   "metadata": {},
   "outputs": [],
   "source": [
    "df_latest_month = df[df['date'] == last_date_in_data]\n",
    "if df_latest_month.empty:\n",
    "    raise ValueError(f\"No data found for last_date_in_data={last_date_in_data}. Adjust as needed.\")\n",
    "\n",
    "# Summation by airline\n",
    "airline_sums = df_latest_month.groupby('Operating Airline')['Landing Count'].sum()\n",
    "airline_proportions = airline_sums / airline_sums.sum()\n",
    "\n",
    "# Distribute predicted_lc across airlines\n",
    "airline_lc_forecast = airline_proportions * predicted_lc\n",
    "\n",
    "# Similarly, we can distribute predicted_tlw across airlines\n",
    "airline_tlw_forecast = airline_proportions * predicted_tlw\n",
    "\n",
    "# -----------------------------\n",
    "# Step B: For each airline, distribute by Aircraft Body Type\n",
    "# -----------------------------\n",
    "# We look at that airline's distribution of body types in the last actual month\n",
    "df_latest_month_airline_body = (\n",
    "    df_latest_month\n",
    "    .groupby(['Operating Airline','Aircraft Body Type'])['Landing Count']\n",
    "    .sum()\n",
    ")\n",
    "\n",
    "predicted_rows = []\n",
    "\n",
    "for airline, airline_share_lc in airline_lc_forecast.items():\n",
    "    # The portion of total landed weight for this airline\n",
    "    airline_share_tlw = airline_tlw_forecast.get(airline, 0.0)\n",
    "\n",
    "    # Filter to just this airline in the last month\n",
    "    # to see distribution of body types\n",
    "    sub = df_latest_month_airline_body.loc[airline] if airline in df_latest_month_airline_body.index.levels[0] else None\n",
    "\n",
    "    if sub is not None and isinstance(sub, pd.Series) and not sub.empty:\n",
    "        # sub is a Series with index = body types, value = landing count\n",
    "        body_type_props = sub / sub.sum()  # proportion of each body type within this airline\n",
    "        for btype, prop_val in body_type_props.items():\n",
    "            final_lc = airline_share_lc * prop_val\n",
    "            final_tlw = airline_share_tlw * prop_val\n",
    "\n",
    "            predicted_rows.append({\n",
    "                'Activity Period': future_date.strftime('%Y%m'),\n",
    "                'date': future_date,\n",
    "                'Operating Airline': airline,\n",
    "                'Landing Count': final_lc,\n",
    "                'Total Landed Weight': final_tlw\n",
    "            })\n",
    "    else:\n",
    "        # If there's no breakdown for this airline, we can store a single row with no body type\n",
    "        predicted_rows.append({\n",
    "            'Activity Period': future_date.strftime('%Y%m'),\n",
    "            'date': future_date,\n",
    "            'Operating Airline': airline,\n",
    "            'Landing Count': airline_share_lc, \n",
    "            'Total Landed Weight': airline_share_tlw\n",
    "        })\n",
    "\n",
    "# Convert to DataFrame\n",
    "predicted_df = pd.DataFrame(predicted_rows)\n",
    "\n",
    "# =========================================================\n",
    "# 6) SHOW FINAL PREDICTED DATAFRAME\n",
    "#    Each row = (Airline, Body Type) with forecasted LC, TLW\n",
    "# =========================================================\n",
    "\n",
    "print(\"\\n=== Final Predicted Rows for 2025-02 (Airline x Body Type) ===\")\n",
    "print(predicted_df.head(20))  # Show first 20 rows\n"
   ]
  },
  {
   "cell_type": "code",
   "execution_count": null,
   "metadata": {},
   "outputs": [],
   "source": [
    "in_sample_pred_lc = results_lc.get_prediction(start=train_data_lc.index[0],\n",
    "                                               end=train_data_lc.index[-1]).predicted_mean\n",
    "actual_lc = train_data_lc\n",
    "\n",
    "rmse_lc = np.sqrt(mean_squared_error(actual_lc, in_sample_pred_lc))\n",
    "mae_lc = mean_absolute_error(actual_lc, in_sample_pred_lc)\n",
    "print(f\"\\n--- In-Sample Error Metrics for Landing Count ---\")\n",
    "print(f\"RMSE: {rmse_lc:.2f}\")\n",
    "print(f\"MAE: {mae_lc:.2f}\")\n",
    "\n",
    "# Create a continuous time series that combines in-sample predictions and forecast.\n",
    "predicted_full_lc = pd.concat([in_sample_pred_lc, pred_lc_series])\n",
    "\n",
    "plt.figure(figsize=(12, 6))\n",
    "plt.plot(train_data_lc.index, train_data_lc, label='Actual Landing Count', color='blue')\n",
    "plt.plot(in_sample_pred_lc.index, in_sample_pred_lc, label='Fitted (In-Sample)', color='red', alpha=0.7)\n",
    "plt.plot(pred_lc_series.index, pred_lc_series, label='Forecast', color='green', linestyle='--', linewidth=2)\n",
    "plt.title(f\"Landing Count Forecast\\nIn-Sample RMSE: {rmse_lc:.2f}, MAE: {mae_lc:.2f}\")\n",
    "plt.xlabel(\"Date\")\n",
    "plt.ylabel(\"Landing Count\")\n",
    "plt.legend()\n",
    "plt.grid(True)\n",
    "plt.show()\n"
   ]
  },
  {
   "cell_type": "code",
   "execution_count": null,
   "metadata": {},
   "outputs": [],
   "source": [
    "import pandas as pd\n",
    "\n",
    "def remove_outliers_iqr(df, column):\n",
    "    \"\"\"\n",
    "    Remove outliers from a DataFrame column using the IQR method.\n",
    "    \"\"\"\n",
    "    Q1 = df[column].quantile(0.25)\n",
    "    Q3 = df[column].quantile(0.75)\n",
    "    IQR = Q3 - Q1\n",
    "\n",
    "    # Define outlier bounds\n",
    "    lower_bound = Q1 - 1.5 * IQR\n",
    "    upper_bound = Q3 + 1.5 * IQR\n",
    "\n",
    "    # Filter out outliers\n",
    "    df_filtered = df[(df[column] >= lower_bound) & (df[column] <= upper_bound)]\n",
    "    return df_filtered\n",
    "\n",
    "# Apply outlier removal on both Landing Count and Total Landed Weight\n",
    "df_no_outliers = remove_outliers_iqr(df_monthly, 'Landing Count')\n",
    "df_no_outliers = remove_outliers_iqr(df_no_outliers, 'Total Landed Weight')\n",
    "\n",
    "print(f\"Original data points: {len(df_monthly)}\")\n",
    "print(f\"Data points after outlier removal: {len(df_no_outliers)}\")"
   ]
  },
  {
   "cell_type": "code",
   "execution_count": null,
   "metadata": {},
   "outputs": [],
   "source": [
    "import matplotlib.pyplot as plt\n",
    "import seaborn as sns\n",
    "\n",
    "# Function to plot boxplots and time series\n",
    "def visualize_outliers(original_df, cleaned_df, column_name):\n",
    "    fig, axes = plt.subplots(2, 2, figsize=(14, 10))\n",
    "    fig.suptitle(f'Outlier Analysis for {column_name}', fontsize=16)\n",
    "\n",
    "    # Boxplot before outlier removal\n",
    "    sns.boxplot(data=original_df, y=column_name, ax=axes[0, 0])\n",
    "    axes[0, 0].set_title('Before Outlier Removal - Boxplot')\n",
    "\n",
    "    # Boxplot after outlier removal\n",
    "    sns.boxplot(data=cleaned_df, y=column_name, ax=axes[0, 1])\n",
    "    axes[0, 1].set_title('After Outlier Removal - Boxplot')\n",
    "\n",
    "    # Time series before outlier removal\n",
    "    axes[1, 0].plot(original_df.index, original_df[column_name], label='Original', color='blue')\n",
    "    axes[1, 0].set_title('Before Outlier Removal - Time Series')\n",
    "    axes[1, 0].set_xlabel('Date')\n",
    "    axes[1, 0].set_ylabel(column_name)\n",
    "\n",
    "    # Time series after outlier removal\n",
    "    axes[1, 1].plot(cleaned_df.index, cleaned_df[column_name], label='Cleaned', color='green')\n",
    "    axes[1, 1].set_title('After Outlier Removal - Time Series')\n",
    "    axes[1, 1].set_xlabel('Date')\n",
    "    axes[1, 1].set_ylabel(column_name)\n",
    "\n",
    "    plt.tight_layout(rect=[0, 0.03, 1, 0.95])\n",
    "    plt.show()\n",
    "\n",
    "# Apply visualization for Landing Count\n",
    "visualize_outliers(df_monthly, df_no_outliers, 'Landing Count')\n",
    "\n",
    "# Apply visualization for Total Landed Weight\n",
    "visualize_outliers(df_monthly, df_no_outliers, 'Total Landed Weight')\n",
    "\n"
   ]
  }
 ],
 "metadata": {
  "kernelspec": {
   "display_name": ".venv",
   "language": "python",
   "name": "python3"
  },
  "language_info": {
   "codemirror_mode": {
    "name": "ipython",
    "version": 3
   },
   "file_extension": ".py",
   "mimetype": "text/x-python",
   "name": "python",
   "nbconvert_exporter": "python",
   "pygments_lexer": "ipython3",
   "version": "3.10.2"
  }
 },
 "nbformat": 4,
 "nbformat_minor": 2
}
